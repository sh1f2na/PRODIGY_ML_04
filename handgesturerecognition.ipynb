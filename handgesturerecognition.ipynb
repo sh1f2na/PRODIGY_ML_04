{
  "nbformat": 4,
  "nbformat_minor": 0,
  "metadata": {
    "colab": {
      "provenance": [],
      "authorship_tag": "ABX9TyP1sNPCHWckzERqIcKYmWb7",
      "include_colab_link": true
    },
    "kernelspec": {
      "name": "python3",
      "display_name": "Python 3"
    },
    "language_info": {
      "name": "python"
    }
  },
  "cells": [
    {
      "cell_type": "markdown",
      "metadata": {
        "id": "view-in-github",
        "colab_type": "text"
      },
      "source": [
        "<a href=\"https://colab.research.google.com/gist/sh1f2na/6d6d76a377fd50501f2f721823e6a4ca/handgesturerecognition.ipynb\" target=\"_parent\"><img src=\"https://colab.research.google.com/assets/colab-badge.svg\" alt=\"Open In Colab\"/></a>"
      ]
    },
    {
      "cell_type": "code",
      "execution_count": null,
      "metadata": {
        "id": "M_3kZrnh5-so"
      },
      "outputs": [],
      "source": [
        "# Import necessary libraries\n",
        "import cv2\n",
        "import numpy as np\n",
        "from keras.preprocessing import image\n",
        "from keras.applications.resnet50 import ResNet50, preprocess_input, decode_predictions"
      ]
    },
    {
      "cell_type": "code",
      "source": [
        "model = ResNet50(weights='imagenet')"
      ],
      "metadata": {
        "colab": {
          "base_uri": "https://localhost:8080/"
        },
        "id": "Qk-rKIy39H-n",
        "outputId": "573b4642-5aeb-4208-8bc2-4fe088e3ca22"
      },
      "execution_count": null,
      "outputs": [
        {
          "output_type": "stream",
          "name": "stdout",
          "text": [
            "Downloading data from https://storage.googleapis.com/tensorflow/keras-applications/resnet/resnet50_weights_tf_dim_ordering_tf_kernels.h5\n",
            "102967424/102967424 [==============================] - 4s 0us/step\n"
          ]
        }
      ]
    },
    {
      "cell_type": "code",
      "source": [
        "# Function to preprocess an image for the ResNet50 model\n",
        "def preprocess_image(img_path):\n",
        "    img = image.load_img(img_path, target_size=(224, 224))\n",
        "    img_array = image.img_to_array(img)\n",
        "    img_array = np.expand_dims(img_array, axis=0)\n",
        "    return preprocess_input(img_array)"
      ],
      "metadata": {
        "id": "tgJEwjei9L85"
      },
      "execution_count": null,
      "outputs": []
    },
    {
      "cell_type": "code",
      "source": [
        "# Function to predict the gesture in an image\n",
        "def predict_gesture(img_path):\n",
        "    preprocessed_img = preprocess_image(img_path)\n",
        "    predictions = model.predict(preprocessed_img)\n",
        "    decoded_predictions = decode_predictions(predictions)\n",
        "    return decoded_predictions[0][0][1]\n"
      ],
      "metadata": {
        "id": "zgkLPtA29SIa"
      },
      "execution_count": null,
      "outputs": []
    },
    {
      "cell_type": "code",
      "source": [
        "# Example usage\n",
        "image_path = '/content/97_S.jpg'\n",
        "predicted_gesture = predict_gesture(image_path)\n",
        "print(f\"Predicted Gesture: {predicted_gesture}\")"
      ],
      "metadata": {
        "colab": {
          "base_uri": "https://localhost:8080/"
        },
        "id": "K8qY3pes900r",
        "outputId": "67859db2-b59c-41b0-c74c-94ec344a6011"
      },
      "execution_count": null,
      "outputs": [
        {
          "output_type": "stream",
          "name": "stdout",
          "text": [
            "1/1 [==============================] - 1s 1s/step\n",
            "Downloading data from https://storage.googleapis.com/download.tensorflow.org/data/imagenet_class_index.json\n",
            "35363/35363 [==============================] - 0s 0us/step\n",
            "Predicted Gesture: badger\n"
          ]
        }
      ]
    },
    {
      "cell_type": "code",
      "source": [
        "# Example usage\n",
        "image_path = '/content/9812_S.jpg'\n",
        "predicted_gesture = predict_gesture(image_path)\n",
        "print(f\"Predicted Gesture: {predicted_gesture}\")"
      ],
      "metadata": {
        "colab": {
          "base_uri": "https://localhost:8080/"
        },
        "id": "13oSoKTsD0Gy",
        "outputId": "4eac89a8-fcb7-4f98-e071-b3a5e2c8644f"
      },
      "execution_count": null,
      "outputs": [
        {
          "output_type": "stream",
          "name": "stdout",
          "text": [
            "1/1 [==============================] - 0s 180ms/step\n",
            "Predicted Gesture: ladle\n"
          ]
        }
      ]
    },
    {
      "cell_type": "code",
      "source": [
        "# Example usage\n",
        "image_path = '/content/88_Y.jpg'\n",
        "predicted_gesture = predict_gesture(image_path)\n",
        "print(f\"Predicted Gesture: {predicted_gesture}\")"
      ],
      "metadata": {
        "colab": {
          "base_uri": "https://localhost:8080/"
        },
        "id": "ZSlMmnY9ECKj",
        "outputId": "84a740f4-2b0a-42fc-d575-b49cba885774"
      },
      "execution_count": null,
      "outputs": [
        {
          "output_type": "stream",
          "name": "stdout",
          "text": [
            "1/1 [==============================] - 0s 186ms/step\n",
            "Predicted Gesture: cocktail_shaker\n"
          ]
        }
      ]
    }
  ]
}